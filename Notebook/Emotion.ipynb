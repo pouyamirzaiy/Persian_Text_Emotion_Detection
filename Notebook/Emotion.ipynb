{
  "cells": [
    {
      "cell_type": "code",
      "execution_count": 2,
      "metadata": {
        "id": "IAwGdqGY2Joh"
      },
      "outputs": [],
      "source": [
        "import pandas as pd\n",
        "\n",
        "from sklearn.model_selection import train_test_split, cross_val_score, KFold\n",
        "\n",
        "# Models\n",
        "from sklearn.linear_model import LogisticRegression\n",
        "from sklearn.tree import DecisionTreeClassifier\n",
        "from sklearn.ensemble import RandomForestClassifier,GradientBoostingClassifier,AdaBoostClassifier\n",
        "from sklearn.svm import SVC\n",
        "from sklearn.neighbors import KNeighborsClassifier\n",
        "from sklearn.naive_bayes import GaussianNB\n",
        "from xgboost import XGBClassifier\n",
        "\n",
        "# Evaluation\n",
        "from sklearn.metrics import accuracy_score, precision_score, recall_score, f1_score,confusion_matrix, mean_squared_error, mean_absolute_error\n",
        "\n",
        "# Display options\n",
        "#pd.set_option('display.max_columns', 30)\n",
        "#warnings.simplefilter(action='ignore', category=FutureWarning)"
      ]
    },
    {
      "cell_type": "code",
      "execution_count": 2,
      "metadata": {
        "colab": {
          "base_uri": "https://localhost:8080/"
        },
        "id": "OgUrqW0i61Bu",
        "outputId": "9f967a1f-9cf3-443d-aad5-992f4dc4a55a"
      },
      "outputs": [
        {
          "name": "stdout",
          "output_type": "stream",
          "text": [
            "Requirement already satisfied: nltk in /usr/local/lib/python3.10/dist-packages (3.8.1)\n",
            "Requirement already satisfied: click in /usr/local/lib/python3.10/dist-packages (from nltk) (8.1.7)\n",
            "Requirement already satisfied: joblib in /usr/local/lib/python3.10/dist-packages (from nltk) (1.4.2)\n",
            "Requirement already satisfied: regex>=2021.8.3 in /usr/local/lib/python3.10/dist-packages (from nltk) (2024.5.15)\n",
            "Requirement already satisfied: tqdm in /usr/local/lib/python3.10/dist-packages (from nltk) (4.66.4)\n"
          ]
        },
        {
          "name": "stderr",
          "output_type": "stream",
          "text": [
            "[nltk_data] Downloading package punkt to /root/nltk_data...\n",
            "[nltk_data]   Package punkt is already up-to-date!\n"
          ]
        },
        {
          "data": {
            "text/plain": [
              "True"
            ]
          },
          "execution_count": 2,
          "metadata": {},
          "output_type": "execute_result"
        }
      ],
      "source": [
        "!pip install nltk\n",
        "import nltk\n",
        "nltk.download('punkt')\n"
      ]
    },
    {
      "cell_type": "code",
      "execution_count": 3,
      "metadata": {
        "colab": {
          "base_uri": "https://localhost:8080/"
        },
        "id": "KaPY0fIo56yq",
        "outputId": "ad201fca-e17a-4956-c0b1-cdc4389ab30a"
      },
      "outputs": [
        {
          "name": "stdout",
          "output_type": "stream",
          "text": [
            "Requirement already satisfied: hazm in /usr/local/lib/python3.10/dist-packages (0.10.0)\n",
            "Requirement already satisfied: fasttext-wheel<0.10.0,>=0.9.2 in /usr/local/lib/python3.10/dist-packages (from hazm) (0.9.2)\n",
            "Requirement already satisfied: flashtext<3.0,>=2.7 in /usr/local/lib/python3.10/dist-packages (from hazm) (2.7)\n",
            "Requirement already satisfied: gensim<5.0.0,>=4.3.1 in /usr/local/lib/python3.10/dist-packages (from hazm) (4.3.2)\n",
            "Requirement already satisfied: nltk<4.0.0,>=3.8.1 in /usr/local/lib/python3.10/dist-packages (from hazm) (3.8.1)\n",
            "Requirement already satisfied: numpy==1.24.3 in /usr/local/lib/python3.10/dist-packages (from hazm) (1.24.3)\n",
            "Requirement already satisfied: python-crfsuite<0.10.0,>=0.9.9 in /usr/local/lib/python3.10/dist-packages (from hazm) (0.9.10)\n",
            "Requirement already satisfied: scikit-learn<2.0.0,>=1.2.2 in /usr/local/lib/python3.10/dist-packages (from hazm) (1.2.2)\n",
            "Requirement already satisfied: pybind11>=2.2 in /usr/local/lib/python3.10/dist-packages (from fasttext-wheel<0.10.0,>=0.9.2->hazm) (2.12.0)\n",
            "Requirement already satisfied: setuptools>=0.7.0 in /usr/local/lib/python3.10/dist-packages (from fasttext-wheel<0.10.0,>=0.9.2->hazm) (67.7.2)\n",
            "Requirement already satisfied: scipy>=1.7.0 in /usr/local/lib/python3.10/dist-packages (from gensim<5.0.0,>=4.3.1->hazm) (1.11.4)\n",
            "Requirement already satisfied: smart-open>=1.8.1 in /usr/local/lib/python3.10/dist-packages (from gensim<5.0.0,>=4.3.1->hazm) (7.0.4)\n",
            "Requirement already satisfied: click in /usr/local/lib/python3.10/dist-packages (from nltk<4.0.0,>=3.8.1->hazm) (8.1.7)\n",
            "Requirement already satisfied: joblib in /usr/local/lib/python3.10/dist-packages (from nltk<4.0.0,>=3.8.1->hazm) (1.4.2)\n",
            "Requirement already satisfied: regex>=2021.8.3 in /usr/local/lib/python3.10/dist-packages (from nltk<4.0.0,>=3.8.1->hazm) (2024.5.15)\n",
            "Requirement already satisfied: tqdm in /usr/local/lib/python3.10/dist-packages (from nltk<4.0.0,>=3.8.1->hazm) (4.66.4)\n",
            "Requirement already satisfied: threadpoolctl>=2.0.0 in /usr/local/lib/python3.10/dist-packages (from scikit-learn<2.0.0,>=1.2.2->hazm) (3.5.0)\n",
            "Requirement already satisfied: wrapt in /usr/local/lib/python3.10/dist-packages (from smart-open>=1.8.1->gensim<5.0.0,>=4.3.1->hazm) (1.14.1)\n"
          ]
        }
      ],
      "source": [
        "!pip install hazm"
      ]
    },
    {
      "cell_type": "code",
      "execution_count": 3,
      "metadata": {
        "colab": {
          "base_uri": "https://localhost:8080/"
        },
        "id": "x9euagFC3vOT",
        "outputId": "991804b4-bdb7-4edb-d5d8-631bced3528c"
      },
      "outputs": [
        {
          "name": "stdout",
          "output_type": "stream",
          "text": [
            "                                                Text Emotion\n",
            "0  کی گفته مرد گریه نمیکنه!؟!؟ سیلم امشب سیل #اصفهان     SAD\n",
            "1  عکسی که چند روز پیش گذاشته بودم این فیلم الانش...   OTHER\n",
            "2  تنهاییم شبیه تنهاییه ظهرای بچگیم شده وقتی که ه...     SAD\n",
            "3           خوبه تمام قسمت‌های گوشی رو محافظت می‌کنه   HAPPY\n",
            "4  این خاک مال مردمان است نه حاکمان #ایران #مهسا_...   ANGRY\n"
          ]
        }
      ],
      "source": [
        "column_names = [\"Text\", \"Emotion\"]\n",
        "\n",
        "df = pd.read_excel('/content/train_data.xlsx', header=None, names=column_names)\n",
        "\n",
        "print(df.head())\n"
      ]
    },
    {
      "cell_type": "code",
      "execution_count": 4,
      "metadata": {
        "colab": {
          "base_uri": "https://localhost:8080/"
        },
        "id": "1vV0Leaf32tx",
        "outputId": "f5fe260b-457f-460f-ef7c-4940b27f537d"
      },
      "outputs": [
        {
          "name": "stdout",
          "output_type": "stream",
          "text": [
            "                                                Text  Emotion\n",
            "0               صعب روزی، بوالعجب کاری، پریشان عالمی      NaN\n",
            "1         بسیار نرم و لطیف بوده و کیفیت بالایی داره.      NaN\n",
            "2      اصلا رنگش با چیزی که تو عکس بود خیلی فرق داشت      NaN\n",
            "3            خیلی زیبا و ب اندازه و با دقت طراحی شده      NaN\n",
            "4  سبزی پلو با ماهی مال عید نوروزه، امشب سوشی میخ...      NaN\n"
          ]
        }
      ],
      "source": [
        "column_names = [\"Text\", \"Emotion\"]\n",
        "\n",
        "df_test = pd.read_csv('/content/3rdHW_test.csv', header=None, names=column_names)\n",
        "\n",
        "print(df_test.head())\n"
      ]
    },
    {
      "cell_type": "code",
      "execution_count": 6,
      "metadata": {
        "colab": {
          "base_uri": "https://localhost:8080/"
        },
        "id": "iglSEddh5JrV",
        "outputId": "d7b7fc5c-0b9b-458f-d18f-c719d58464d6"
      },
      "outputs": [
        {
          "name": "stdout",
          "output_type": "stream",
          "text": [
            "              precision    recall  f1-score   support\n",
            "\n",
            "       ANGRY       0.63      0.39      0.48       187\n",
            "        FEAR       0.67      0.37      0.48        65\n",
            "       HAPPY       0.74      0.75      0.75       325\n",
            "       OTHER       0.44      0.71      0.54       242\n",
            "         SAD       0.56      0.38      0.45       166\n",
            "\n",
            "    accuracy                           0.58       985\n",
            "   macro avg       0.61      0.52      0.54       985\n",
            "weighted avg       0.61      0.58      0.58       985\n",
            "\n",
            "Cross-validation scores: [0.59010152 0.5786802  0.57741117 0.53172589 0.56289708]\n"
          ]
        }
      ],
      "source": [
        "import pandas as pd\n",
        "from sklearn.model_selection import train_test_split\n",
        "from sklearn.feature_extraction.text import TfidfVectorizer\n",
        "from sklearn.ensemble import RandomForestClassifier\n",
        "from sklearn.metrics import classification_report\n",
        "from sklearn.model_selection import cross_val_score\n",
        "\n",
        "\n",
        "df['Text'] = df['Text'].str.replace('[^\\w\\s]','')\n",
        "\n",
        "# Split the data into training and validation sets\n",
        "X_train, X_val, y_train, y_val = train_test_split(df['Text'], df['Emotion'], test_size=0.2, random_state=42)\n",
        "\n",
        "# Vectorize the text data\n",
        "vectorizer = TfidfVectorizer()\n",
        "X_train = vectorizer.fit_transform(X_train)\n",
        "X_val = vectorizer.transform(X_val)\n",
        "\n",
        "# Train the model\n",
        "model = RandomForestClassifier(n_estimators=100, random_state=42)\n",
        "model.fit(X_train, y_train)\n",
        "\n",
        "# Evaluate the model\n",
        "print(classification_report(y_val, model.predict(X_val)))\n",
        "\n",
        "# Use cross-validation for a more reliable performance estimate\n",
        "scores = cross_val_score(model, X_train, y_train, cv=5)\n",
        "print('Cross-validation scores:', scores)\n"
      ]
    },
    {
      "cell_type": "markdown",
      "metadata": {
        "id": "L99zNUu16t5s"
      },
      "source": [
        "Data cleaning"
      ]
    },
    {
      "cell_type": "code",
      "execution_count": 7,
      "metadata": {
        "colab": {
          "base_uri": "https://localhost:8080/"
        },
        "id": "zMzYNCoo8Cxz",
        "outputId": "c08bd465-dc39-4ff9-cc87-cc23d5db38b3"
      },
      "outputs": [
        {
          "name": "stdout",
          "output_type": "stream",
          "text": [
            "Text       0\n",
            "Emotion    0\n",
            "dtype: int64\n"
          ]
        }
      ],
      "source": [
        "# Get the number of null values in each column\n",
        "null_count = df.isnull().sum()\n",
        "print(null_count)"
      ]
    },
    {
      "cell_type": "code",
      "execution_count": 8,
      "metadata": {
        "colab": {
          "base_uri": "https://localhost:8080/"
        },
        "id": "zQHZ0Zaf7LEG",
        "outputId": "cf909f8c-6c31-40b4-b7f2-726097f9ae68"
      },
      "outputs": [
        {
          "name": "stdout",
          "output_type": "stream",
          "text": [
            "       Text  Emotion\n",
            "0     False    False\n",
            "1     False    False\n",
            "2     False    False\n",
            "3     False    False\n",
            "4     False    False\n",
            "...     ...      ...\n",
            "4919  False    False\n",
            "4920  False    False\n",
            "4921  False    False\n",
            "4922  False    False\n",
            "4923  False    False\n",
            "\n",
            "[4924 rows x 2 columns]\n"
          ]
        }
      ],
      "source": [
        "# Check for null values\n",
        "null_values = df.isnull()\n",
        "print(null_values)"
      ]
    },
    {
      "cell_type": "code",
      "execution_count": 5,
      "metadata": {
        "id": "H02CWNpi8HP3"
      },
      "outputs": [],
      "source": [
        "from hazm import Normalizer, Stemmer, word_tokenize, stopwords_list\n",
        "from sklearn.feature_extraction.text import TfidfVectorizer, CountVectorizer\n",
        "from collections import Counter\n",
        "\n",
        "# Initialize the normalizer and stemmer\n",
        "normalizer = Normalizer()\n",
        "stemmer = Stemmer()\n",
        "\n",
        "# Get the list of Persian stop words\n",
        "stopwords = stopwords_list()\n",
        "\n",
        "# Function to clean and stem the text\n",
        "def clean_text(text):\n",
        "    # Normalize the text\n",
        "    text = normalizer.normalize(text)\n",
        "\n",
        "    # Tokenize the text\n",
        "    tokens = word_tokenize(text)\n",
        "\n",
        "    # Remove stop words\n",
        "    tokens = [token for token in tokens if token not in stopwords]\n",
        "\n",
        "    # Stem the tokens\n",
        "    stemmed_tokens = [stemmer.stem(token) for token in tokens]\n",
        "\n",
        "    return ' '.join(stemmed_tokens)\n",
        "\n",
        "# Apply the function to the 'Text' column\n",
        "df['Text'] = df['Text'].apply(clean_text)"
      ]
    },
    {
      "cell_type": "code",
      "execution_count": 7,
      "metadata": {
        "colab": {
          "base_uri": "https://localhost:8080/"
        },
        "id": "Q1L39CCPYl7P",
        "outputId": "5e002380-8381-471c-a4c3-7ed2c9240715"
      },
      "outputs": [
        {
          "name": "stdout",
          "output_type": "stream",
          "text": [
            "Best TF-IDF parameters: {'tfidf__max_df': 0.5, 'tfidf__max_features': 5000, 'tfidf__min_df': 1}\n"
          ]
        }
      ],
      "source": [
        "from sklearn.model_selection import GridSearchCV\n",
        "from sklearn.pipeline import Pipeline\n",
        "from sklearn.ensemble import RandomForestClassifier\n",
        "\n",
        "# Define a pipeline combining a text feature extractor with a classifier\n",
        "pipeline = Pipeline([\n",
        "    ('tfidf', TfidfVectorizer(ngram_range=(1, 3))),\n",
        "    ('classifier', RandomForestClassifier(random_state=42))\n",
        "])\n",
        "\n",
        "# Define the parameter grid to search\n",
        "param_grid = {\n",
        "    'tfidf__max_df': [0.5, 0.75, 1.0],\n",
        "    'tfidf__min_df': [1, 2, 3],\n",
        "    'tfidf__max_features': [None, 5000, 10000]\n",
        "}\n",
        "\n",
        "grid_search_tfidf = GridSearchCV(pipeline, param_grid, cv=5)\n",
        "grid_search_tfidf.fit(df['Text'], df['Emotion']) # Replace 'Label' with your actual target column name\n",
        "print(\"Best TF-IDF parameters:\", grid_search_tfidf.best_params_)\n",
        "\n",
        "# Use the best parameters for the TF-IDF vectorizer\n",
        "best_tfidf_params = grid_search_tfidf.best_params_\n",
        "vectorizer = TfidfVectorizer(**{k.split('__')[1]: v for k, v in best_tfidf_params.items()})\n"
      ]
    },
    {
      "cell_type": "markdown",
      "metadata": {
        "id": "IjLMW8gSjfcw"
      },
      "source": [
        "Train"
      ]
    },
    {
      "cell_type": "code",
      "execution_count": 16,
      "metadata": {
        "id": "zYstccBTHi9R"
      },
      "outputs": [],
      "source": [
        "# Split the data into training and validation sets\n",
        "X_train, X_val, y_train, y_val = train_test_split(df['Text'], df['Emotion'], test_size=0.2, random_state=42)\n",
        "\n",
        "# Vectorize the text data\n",
        "vectorizer = TfidfVectorizer()\n",
        "X_train = vectorizer.fit_transform(X_train)\n",
        "X_val = vectorizer.transform(X_val)\n"
      ]
    },
    {
      "cell_type": "code",
      "execution_count": 11,
      "metadata": {
        "id": "9mBj1ufng1QP"
      },
      "outputs": [],
      "source": [
        "from sklearn.metrics import classification_report\n"
      ]
    },
    {
      "cell_type": "code",
      "execution_count": 12,
      "metadata": {
        "colab": {
          "base_uri": "https://localhost:8080/"
        },
        "id": "-gvt00eeMhMS",
        "outputId": "109718f9-5d4a-4da8-d3a7-989c4f46a077"
      },
      "outputs": [
        {
          "name": "stdout",
          "output_type": "stream",
          "text": [
            "              precision    recall  f1-score   support\n",
            "\n",
            "       ANGRY       0.55      0.36      0.44       187\n",
            "        FEAR       0.62      0.51      0.56        65\n",
            "       HAPPY       0.77      0.70      0.73       325\n",
            "       OTHER       0.45      0.65      0.53       242\n",
            "         SAD       0.52      0.51      0.51       166\n",
            "\n",
            "    accuracy                           0.58       985\n",
            "   macro avg       0.58      0.54      0.55       985\n",
            "weighted avg       0.60      0.58      0.58       985\n",
            "\n",
            "Cross-validation scores: 0.5752736408258567\n"
          ]
        }
      ],
      "source": [
        "# Train the model\n",
        "model = RandomForestClassifier(n_estimators=100, random_state=42)\n",
        "model.fit(X_train, y_train)\n",
        "\n",
        "# Evaluate the model\n",
        "y_pred = model.predict(X_val)\n",
        "print(classification_report(y_val, y_pred))\n",
        "\n",
        "# Use cross-validation for a more reliable performance estimate\n",
        "scores = cross_val_score(model, X_train, y_train, cv=5)\n",
        "print('Cross-validation scores:', scores.mean())\n"
      ]
    },
    {
      "cell_type": "code",
      "execution_count": 17,
      "metadata": {
        "colab": {
          "base_uri": "https://localhost:8080/",
          "height": 373
        },
        "id": "mr3csIWzVl4O",
        "outputId": "0a0431f9-0cac-49c6-fd58-e29c73028c57"
      },
      "outputs": [
        {
          "ename": "KeyboardInterrupt",
          "evalue": "",
          "output_type": "error",
          "traceback": [
            "\u001b[0;31m---------------------------------------------------------------------------\u001b[0m",
            "\u001b[0;31mKeyboardInterrupt\u001b[0m                         Traceback (most recent call last)",
            "\u001b[0;32m<ipython-input-17-c37714c9e91a>\u001b[0m in \u001b[0;36m<cell line: 14>\u001b[0;34m()\u001b[0m\n\u001b[1;32m     12\u001b[0m \u001b[0;34m\u001b[0m\u001b[0m\n\u001b[1;32m     13\u001b[0m \u001b[0;31m# Fit the grid search to the data\u001b[0m\u001b[0;34m\u001b[0m\u001b[0;34m\u001b[0m\u001b[0m\n\u001b[0;32m---> 14\u001b[0;31m \u001b[0mgrid_search\u001b[0m\u001b[0;34m.\u001b[0m\u001b[0mfit\u001b[0m\u001b[0;34m(\u001b[0m\u001b[0mX_train\u001b[0m\u001b[0;34m,\u001b[0m \u001b[0my_train\u001b[0m\u001b[0;34m)\u001b[0m\u001b[0;34m\u001b[0m\u001b[0;34m\u001b[0m\u001b[0m\n\u001b[0m\u001b[1;32m     15\u001b[0m \u001b[0;34m\u001b[0m\u001b[0m\n\u001b[1;32m     16\u001b[0m \u001b[0;31m# Print the best parameters\u001b[0m\u001b[0;34m\u001b[0m\u001b[0;34m\u001b[0m\u001b[0m\n",
            "\u001b[0;32m/usr/local/lib/python3.10/dist-packages/sklearn/model_selection/_search.py\u001b[0m in \u001b[0;36mfit\u001b[0;34m(self, X, y, groups, **fit_params)\u001b[0m\n\u001b[1;32m    872\u001b[0m                 \u001b[0;32mreturn\u001b[0m \u001b[0mresults\u001b[0m\u001b[0;34m\u001b[0m\u001b[0;34m\u001b[0m\u001b[0m\n\u001b[1;32m    873\u001b[0m \u001b[0;34m\u001b[0m\u001b[0m\n\u001b[0;32m--> 874\u001b[0;31m             \u001b[0mself\u001b[0m\u001b[0;34m.\u001b[0m\u001b[0m_run_search\u001b[0m\u001b[0;34m(\u001b[0m\u001b[0mevaluate_candidates\u001b[0m\u001b[0;34m)\u001b[0m\u001b[0;34m\u001b[0m\u001b[0;34m\u001b[0m\u001b[0m\n\u001b[0m\u001b[1;32m    875\u001b[0m \u001b[0;34m\u001b[0m\u001b[0m\n\u001b[1;32m    876\u001b[0m             \u001b[0;31m# multimetric is determined here because in the case of a callable\u001b[0m\u001b[0;34m\u001b[0m\u001b[0;34m\u001b[0m\u001b[0m\n",
            "\u001b[0;32m/usr/local/lib/python3.10/dist-packages/sklearn/model_selection/_search.py\u001b[0m in \u001b[0;36m_run_search\u001b[0;34m(self, evaluate_candidates)\u001b[0m\n\u001b[1;32m   1386\u001b[0m     \u001b[0;32mdef\u001b[0m \u001b[0m_run_search\u001b[0m\u001b[0;34m(\u001b[0m\u001b[0mself\u001b[0m\u001b[0;34m,\u001b[0m \u001b[0mevaluate_candidates\u001b[0m\u001b[0;34m)\u001b[0m\u001b[0;34m:\u001b[0m\u001b[0;34m\u001b[0m\u001b[0;34m\u001b[0m\u001b[0m\n\u001b[1;32m   1387\u001b[0m         \u001b[0;34m\"\"\"Search all candidates in param_grid\"\"\"\u001b[0m\u001b[0;34m\u001b[0m\u001b[0;34m\u001b[0m\u001b[0m\n\u001b[0;32m-> 1388\u001b[0;31m         \u001b[0mevaluate_candidates\u001b[0m\u001b[0;34m(\u001b[0m\u001b[0mParameterGrid\u001b[0m\u001b[0;34m(\u001b[0m\u001b[0mself\u001b[0m\u001b[0;34m.\u001b[0m\u001b[0mparam_grid\u001b[0m\u001b[0;34m)\u001b[0m\u001b[0;34m)\u001b[0m\u001b[0;34m\u001b[0m\u001b[0;34m\u001b[0m\u001b[0m\n\u001b[0m\u001b[1;32m   1389\u001b[0m \u001b[0;34m\u001b[0m\u001b[0m\n\u001b[1;32m   1390\u001b[0m \u001b[0;34m\u001b[0m\u001b[0m\n",
            "\u001b[0;32m/usr/local/lib/python3.10/dist-packages/sklearn/model_selection/_search.py\u001b[0m in \u001b[0;36mevaluate_candidates\u001b[0;34m(candidate_params, cv, more_results)\u001b[0m\n\u001b[1;32m    819\u001b[0m                     )\n\u001b[1;32m    820\u001b[0m \u001b[0;34m\u001b[0m\u001b[0m\n\u001b[0;32m--> 821\u001b[0;31m                 out = parallel(\n\u001b[0m\u001b[1;32m    822\u001b[0m                     delayed(_fit_and_score)(\n\u001b[1;32m    823\u001b[0m                         \u001b[0mclone\u001b[0m\u001b[0;34m(\u001b[0m\u001b[0mbase_estimator\u001b[0m\u001b[0;34m)\u001b[0m\u001b[0;34m,\u001b[0m\u001b[0;34m\u001b[0m\u001b[0;34m\u001b[0m\u001b[0m\n",
            "\u001b[0;32m/usr/local/lib/python3.10/dist-packages/sklearn/utils/parallel.py\u001b[0m in \u001b[0;36m__call__\u001b[0;34m(self, iterable)\u001b[0m\n\u001b[1;32m     61\u001b[0m             \u001b[0;32mfor\u001b[0m \u001b[0mdelayed_func\u001b[0m\u001b[0;34m,\u001b[0m \u001b[0margs\u001b[0m\u001b[0;34m,\u001b[0m \u001b[0mkwargs\u001b[0m \u001b[0;32min\u001b[0m \u001b[0miterable\u001b[0m\u001b[0;34m\u001b[0m\u001b[0;34m\u001b[0m\u001b[0m\n\u001b[1;32m     62\u001b[0m         )\n\u001b[0;32m---> 63\u001b[0;31m         \u001b[0;32mreturn\u001b[0m \u001b[0msuper\u001b[0m\u001b[0;34m(\u001b[0m\u001b[0;34m)\u001b[0m\u001b[0;34m.\u001b[0m\u001b[0m__call__\u001b[0m\u001b[0;34m(\u001b[0m\u001b[0miterable_with_config\u001b[0m\u001b[0;34m)\u001b[0m\u001b[0;34m\u001b[0m\u001b[0;34m\u001b[0m\u001b[0m\n\u001b[0m\u001b[1;32m     64\u001b[0m \u001b[0;34m\u001b[0m\u001b[0m\n\u001b[1;32m     65\u001b[0m \u001b[0;34m\u001b[0m\u001b[0m\n",
            "\u001b[0;32m/usr/local/lib/python3.10/dist-packages/joblib/parallel.py\u001b[0m in \u001b[0;36m__call__\u001b[0;34m(self, iterable)\u001b[0m\n\u001b[1;32m   1916\u001b[0m             \u001b[0moutput\u001b[0m \u001b[0;34m=\u001b[0m \u001b[0mself\u001b[0m\u001b[0;34m.\u001b[0m\u001b[0m_get_sequential_output\u001b[0m\u001b[0;34m(\u001b[0m\u001b[0miterable\u001b[0m\u001b[0;34m)\u001b[0m\u001b[0;34m\u001b[0m\u001b[0;34m\u001b[0m\u001b[0m\n\u001b[1;32m   1917\u001b[0m             \u001b[0mnext\u001b[0m\u001b[0;34m(\u001b[0m\u001b[0moutput\u001b[0m\u001b[0;34m)\u001b[0m\u001b[0;34m\u001b[0m\u001b[0;34m\u001b[0m\u001b[0m\n\u001b[0;32m-> 1918\u001b[0;31m             \u001b[0;32mreturn\u001b[0m \u001b[0moutput\u001b[0m \u001b[0;32mif\u001b[0m \u001b[0mself\u001b[0m\u001b[0;34m.\u001b[0m\u001b[0mreturn_generator\u001b[0m \u001b[0;32melse\u001b[0m \u001b[0mlist\u001b[0m\u001b[0;34m(\u001b[0m\u001b[0moutput\u001b[0m\u001b[0;34m)\u001b[0m\u001b[0;34m\u001b[0m\u001b[0;34m\u001b[0m\u001b[0m\n\u001b[0m\u001b[1;32m   1919\u001b[0m \u001b[0;34m\u001b[0m\u001b[0m\n\u001b[1;32m   1920\u001b[0m         \u001b[0;31m# Let's create an ID that uniquely identifies the current call. If the\u001b[0m\u001b[0;34m\u001b[0m\u001b[0;34m\u001b[0m\u001b[0m\n",
            "\u001b[0;32m/usr/local/lib/python3.10/dist-packages/joblib/parallel.py\u001b[0m in \u001b[0;36m_get_sequential_output\u001b[0;34m(self, iterable)\u001b[0m\n\u001b[1;32m   1845\u001b[0m                 \u001b[0mself\u001b[0m\u001b[0;34m.\u001b[0m\u001b[0mn_dispatched_batches\u001b[0m \u001b[0;34m+=\u001b[0m \u001b[0;36m1\u001b[0m\u001b[0;34m\u001b[0m\u001b[0;34m\u001b[0m\u001b[0m\n\u001b[1;32m   1846\u001b[0m                 \u001b[0mself\u001b[0m\u001b[0;34m.\u001b[0m\u001b[0mn_dispatched_tasks\u001b[0m \u001b[0;34m+=\u001b[0m \u001b[0;36m1\u001b[0m\u001b[0;34m\u001b[0m\u001b[0;34m\u001b[0m\u001b[0m\n\u001b[0;32m-> 1847\u001b[0;31m                 \u001b[0mres\u001b[0m \u001b[0;34m=\u001b[0m \u001b[0mfunc\u001b[0m\u001b[0;34m(\u001b[0m\u001b[0;34m*\u001b[0m\u001b[0margs\u001b[0m\u001b[0;34m,\u001b[0m \u001b[0;34m**\u001b[0m\u001b[0mkwargs\u001b[0m\u001b[0;34m)\u001b[0m\u001b[0;34m\u001b[0m\u001b[0;34m\u001b[0m\u001b[0m\n\u001b[0m\u001b[1;32m   1848\u001b[0m                 \u001b[0mself\u001b[0m\u001b[0;34m.\u001b[0m\u001b[0mn_completed_tasks\u001b[0m \u001b[0;34m+=\u001b[0m \u001b[0;36m1\u001b[0m\u001b[0;34m\u001b[0m\u001b[0;34m\u001b[0m\u001b[0m\n\u001b[1;32m   1849\u001b[0m                 \u001b[0mself\u001b[0m\u001b[0;34m.\u001b[0m\u001b[0mprint_progress\u001b[0m\u001b[0;34m(\u001b[0m\u001b[0;34m)\u001b[0m\u001b[0;34m\u001b[0m\u001b[0;34m\u001b[0m\u001b[0m\n",
            "\u001b[0;32m/usr/local/lib/python3.10/dist-packages/sklearn/utils/parallel.py\u001b[0m in \u001b[0;36m__call__\u001b[0;34m(self, *args, **kwargs)\u001b[0m\n\u001b[1;32m    121\u001b[0m             \u001b[0mconfig\u001b[0m \u001b[0;34m=\u001b[0m \u001b[0;34m{\u001b[0m\u001b[0;34m}\u001b[0m\u001b[0;34m\u001b[0m\u001b[0;34m\u001b[0m\u001b[0m\n\u001b[1;32m    122\u001b[0m         \u001b[0;32mwith\u001b[0m \u001b[0mconfig_context\u001b[0m\u001b[0;34m(\u001b[0m\u001b[0;34m**\u001b[0m\u001b[0mconfig\u001b[0m\u001b[0;34m)\u001b[0m\u001b[0;34m:\u001b[0m\u001b[0;34m\u001b[0m\u001b[0;34m\u001b[0m\u001b[0m\n\u001b[0;32m--> 123\u001b[0;31m             \u001b[0;32mreturn\u001b[0m \u001b[0mself\u001b[0m\u001b[0;34m.\u001b[0m\u001b[0mfunction\u001b[0m\u001b[0;34m(\u001b[0m\u001b[0;34m*\u001b[0m\u001b[0margs\u001b[0m\u001b[0;34m,\u001b[0m \u001b[0;34m**\u001b[0m\u001b[0mkwargs\u001b[0m\u001b[0;34m)\u001b[0m\u001b[0;34m\u001b[0m\u001b[0;34m\u001b[0m\u001b[0m\n\u001b[0m",
            "\u001b[0;32m/usr/local/lib/python3.10/dist-packages/sklearn/model_selection/_validation.py\u001b[0m in \u001b[0;36m_fit_and_score\u001b[0;34m(estimator, X, y, scorer, train, test, verbose, parameters, fit_params, return_train_score, return_parameters, return_n_test_samples, return_times, return_estimator, split_progress, candidate_progress, error_score)\u001b[0m\n\u001b[1;32m    684\u001b[0m             \u001b[0mestimator\u001b[0m\u001b[0;34m.\u001b[0m\u001b[0mfit\u001b[0m\u001b[0;34m(\u001b[0m\u001b[0mX_train\u001b[0m\u001b[0;34m,\u001b[0m \u001b[0;34m**\u001b[0m\u001b[0mfit_params\u001b[0m\u001b[0;34m)\u001b[0m\u001b[0;34m\u001b[0m\u001b[0;34m\u001b[0m\u001b[0m\n\u001b[1;32m    685\u001b[0m         \u001b[0;32melse\u001b[0m\u001b[0;34m:\u001b[0m\u001b[0;34m\u001b[0m\u001b[0;34m\u001b[0m\u001b[0m\n\u001b[0;32m--> 686\u001b[0;31m             \u001b[0mestimator\u001b[0m\u001b[0;34m.\u001b[0m\u001b[0mfit\u001b[0m\u001b[0;34m(\u001b[0m\u001b[0mX_train\u001b[0m\u001b[0;34m,\u001b[0m \u001b[0my_train\u001b[0m\u001b[0;34m,\u001b[0m \u001b[0;34m**\u001b[0m\u001b[0mfit_params\u001b[0m\u001b[0;34m)\u001b[0m\u001b[0;34m\u001b[0m\u001b[0;34m\u001b[0m\u001b[0m\n\u001b[0m\u001b[1;32m    687\u001b[0m \u001b[0;34m\u001b[0m\u001b[0m\n\u001b[1;32m    688\u001b[0m     \u001b[0;32mexcept\u001b[0m \u001b[0mException\u001b[0m\u001b[0;34m:\u001b[0m\u001b[0;34m\u001b[0m\u001b[0;34m\u001b[0m\u001b[0m\n",
            "\u001b[0;32m/usr/local/lib/python3.10/dist-packages/sklearn/ensemble/_forest.py\u001b[0m in \u001b[0;36mfit\u001b[0;34m(self, X, y, sample_weight)\u001b[0m\n\u001b[1;32m    471\u001b[0m             \u001b[0;31m# parallel_backend contexts set at a higher level,\u001b[0m\u001b[0;34m\u001b[0m\u001b[0;34m\u001b[0m\u001b[0m\n\u001b[1;32m    472\u001b[0m             \u001b[0;31m# since correctness does not rely on using threads.\u001b[0m\u001b[0;34m\u001b[0m\u001b[0;34m\u001b[0m\u001b[0m\n\u001b[0;32m--> 473\u001b[0;31m             trees = Parallel(\n\u001b[0m\u001b[1;32m    474\u001b[0m                 \u001b[0mn_jobs\u001b[0m\u001b[0;34m=\u001b[0m\u001b[0mself\u001b[0m\u001b[0;34m.\u001b[0m\u001b[0mn_jobs\u001b[0m\u001b[0;34m,\u001b[0m\u001b[0;34m\u001b[0m\u001b[0;34m\u001b[0m\u001b[0m\n\u001b[1;32m    475\u001b[0m                 \u001b[0mverbose\u001b[0m\u001b[0;34m=\u001b[0m\u001b[0mself\u001b[0m\u001b[0;34m.\u001b[0m\u001b[0mverbose\u001b[0m\u001b[0;34m,\u001b[0m\u001b[0;34m\u001b[0m\u001b[0;34m\u001b[0m\u001b[0m\n",
            "\u001b[0;32m/usr/local/lib/python3.10/dist-packages/sklearn/utils/parallel.py\u001b[0m in \u001b[0;36m__call__\u001b[0;34m(self, iterable)\u001b[0m\n\u001b[1;32m     61\u001b[0m             \u001b[0;32mfor\u001b[0m \u001b[0mdelayed_func\u001b[0m\u001b[0;34m,\u001b[0m \u001b[0margs\u001b[0m\u001b[0;34m,\u001b[0m \u001b[0mkwargs\u001b[0m \u001b[0;32min\u001b[0m \u001b[0miterable\u001b[0m\u001b[0;34m\u001b[0m\u001b[0;34m\u001b[0m\u001b[0m\n\u001b[1;32m     62\u001b[0m         )\n\u001b[0;32m---> 63\u001b[0;31m         \u001b[0;32mreturn\u001b[0m \u001b[0msuper\u001b[0m\u001b[0;34m(\u001b[0m\u001b[0;34m)\u001b[0m\u001b[0;34m.\u001b[0m\u001b[0m__call__\u001b[0m\u001b[0;34m(\u001b[0m\u001b[0miterable_with_config\u001b[0m\u001b[0;34m)\u001b[0m\u001b[0;34m\u001b[0m\u001b[0;34m\u001b[0m\u001b[0m\n\u001b[0m\u001b[1;32m     64\u001b[0m \u001b[0;34m\u001b[0m\u001b[0m\n\u001b[1;32m     65\u001b[0m \u001b[0;34m\u001b[0m\u001b[0m\n",
            "\u001b[0;32m/usr/local/lib/python3.10/dist-packages/joblib/parallel.py\u001b[0m in \u001b[0;36m__call__\u001b[0;34m(self, iterable)\u001b[0m\n\u001b[1;32m   1916\u001b[0m             \u001b[0moutput\u001b[0m \u001b[0;34m=\u001b[0m \u001b[0mself\u001b[0m\u001b[0;34m.\u001b[0m\u001b[0m_get_sequential_output\u001b[0m\u001b[0;34m(\u001b[0m\u001b[0miterable\u001b[0m\u001b[0;34m)\u001b[0m\u001b[0;34m\u001b[0m\u001b[0;34m\u001b[0m\u001b[0m\n\u001b[1;32m   1917\u001b[0m             \u001b[0mnext\u001b[0m\u001b[0;34m(\u001b[0m\u001b[0moutput\u001b[0m\u001b[0;34m)\u001b[0m\u001b[0;34m\u001b[0m\u001b[0;34m\u001b[0m\u001b[0m\n\u001b[0;32m-> 1918\u001b[0;31m             \u001b[0;32mreturn\u001b[0m \u001b[0moutput\u001b[0m \u001b[0;32mif\u001b[0m \u001b[0mself\u001b[0m\u001b[0;34m.\u001b[0m\u001b[0mreturn_generator\u001b[0m \u001b[0;32melse\u001b[0m \u001b[0mlist\u001b[0m\u001b[0;34m(\u001b[0m\u001b[0moutput\u001b[0m\u001b[0;34m)\u001b[0m\u001b[0;34m\u001b[0m\u001b[0;34m\u001b[0m\u001b[0m\n\u001b[0m\u001b[1;32m   1919\u001b[0m \u001b[0;34m\u001b[0m\u001b[0m\n\u001b[1;32m   1920\u001b[0m         \u001b[0;31m# Let's create an ID that uniquely identifies the current call. If the\u001b[0m\u001b[0;34m\u001b[0m\u001b[0;34m\u001b[0m\u001b[0m\n",
            "\u001b[0;32m/usr/local/lib/python3.10/dist-packages/joblib/parallel.py\u001b[0m in \u001b[0;36m_get_sequential_output\u001b[0;34m(self, iterable)\u001b[0m\n\u001b[1;32m   1845\u001b[0m                 \u001b[0mself\u001b[0m\u001b[0;34m.\u001b[0m\u001b[0mn_dispatched_batches\u001b[0m \u001b[0;34m+=\u001b[0m \u001b[0;36m1\u001b[0m\u001b[0;34m\u001b[0m\u001b[0;34m\u001b[0m\u001b[0m\n\u001b[1;32m   1846\u001b[0m                 \u001b[0mself\u001b[0m\u001b[0;34m.\u001b[0m\u001b[0mn_dispatched_tasks\u001b[0m \u001b[0;34m+=\u001b[0m \u001b[0;36m1\u001b[0m\u001b[0;34m\u001b[0m\u001b[0;34m\u001b[0m\u001b[0m\n\u001b[0;32m-> 1847\u001b[0;31m                 \u001b[0mres\u001b[0m \u001b[0;34m=\u001b[0m \u001b[0mfunc\u001b[0m\u001b[0;34m(\u001b[0m\u001b[0;34m*\u001b[0m\u001b[0margs\u001b[0m\u001b[0;34m,\u001b[0m \u001b[0;34m**\u001b[0m\u001b[0mkwargs\u001b[0m\u001b[0;34m)\u001b[0m\u001b[0;34m\u001b[0m\u001b[0;34m\u001b[0m\u001b[0m\n\u001b[0m\u001b[1;32m   1848\u001b[0m                 \u001b[0mself\u001b[0m\u001b[0;34m.\u001b[0m\u001b[0mn_completed_tasks\u001b[0m \u001b[0;34m+=\u001b[0m \u001b[0;36m1\u001b[0m\u001b[0;34m\u001b[0m\u001b[0;34m\u001b[0m\u001b[0m\n\u001b[1;32m   1849\u001b[0m                 \u001b[0mself\u001b[0m\u001b[0;34m.\u001b[0m\u001b[0mprint_progress\u001b[0m\u001b[0;34m(\u001b[0m\u001b[0;34m)\u001b[0m\u001b[0;34m\u001b[0m\u001b[0;34m\u001b[0m\u001b[0m\n",
            "\u001b[0;32m/usr/local/lib/python3.10/dist-packages/sklearn/utils/parallel.py\u001b[0m in \u001b[0;36m__call__\u001b[0;34m(self, *args, **kwargs)\u001b[0m\n\u001b[1;32m    121\u001b[0m             \u001b[0mconfig\u001b[0m \u001b[0;34m=\u001b[0m \u001b[0;34m{\u001b[0m\u001b[0;34m}\u001b[0m\u001b[0;34m\u001b[0m\u001b[0;34m\u001b[0m\u001b[0m\n\u001b[1;32m    122\u001b[0m         \u001b[0;32mwith\u001b[0m \u001b[0mconfig_context\u001b[0m\u001b[0;34m(\u001b[0m\u001b[0;34m**\u001b[0m\u001b[0mconfig\u001b[0m\u001b[0;34m)\u001b[0m\u001b[0;34m:\u001b[0m\u001b[0;34m\u001b[0m\u001b[0;34m\u001b[0m\u001b[0m\n\u001b[0;32m--> 123\u001b[0;31m             \u001b[0;32mreturn\u001b[0m \u001b[0mself\u001b[0m\u001b[0;34m.\u001b[0m\u001b[0mfunction\u001b[0m\u001b[0;34m(\u001b[0m\u001b[0;34m*\u001b[0m\u001b[0margs\u001b[0m\u001b[0;34m,\u001b[0m \u001b[0;34m**\u001b[0m\u001b[0mkwargs\u001b[0m\u001b[0;34m)\u001b[0m\u001b[0;34m\u001b[0m\u001b[0;34m\u001b[0m\u001b[0m\n\u001b[0m",
            "\u001b[0;32m/usr/local/lib/python3.10/dist-packages/sklearn/ensemble/_forest.py\u001b[0m in \u001b[0;36m_parallel_build_trees\u001b[0;34m(tree, bootstrap, X, y, sample_weight, tree_idx, n_trees, verbose, class_weight, n_samples_bootstrap)\u001b[0m\n\u001b[1;32m    182\u001b[0m             \u001b[0mcurr_sample_weight\u001b[0m \u001b[0;34m*=\u001b[0m \u001b[0mcompute_sample_weight\u001b[0m\u001b[0;34m(\u001b[0m\u001b[0;34m\"balanced\"\u001b[0m\u001b[0;34m,\u001b[0m \u001b[0my\u001b[0m\u001b[0;34m,\u001b[0m \u001b[0mindices\u001b[0m\u001b[0;34m=\u001b[0m\u001b[0mindices\u001b[0m\u001b[0;34m)\u001b[0m\u001b[0;34m\u001b[0m\u001b[0;34m\u001b[0m\u001b[0m\n\u001b[1;32m    183\u001b[0m \u001b[0;34m\u001b[0m\u001b[0m\n\u001b[0;32m--> 184\u001b[0;31m         \u001b[0mtree\u001b[0m\u001b[0;34m.\u001b[0m\u001b[0mfit\u001b[0m\u001b[0;34m(\u001b[0m\u001b[0mX\u001b[0m\u001b[0;34m,\u001b[0m \u001b[0my\u001b[0m\u001b[0;34m,\u001b[0m \u001b[0msample_weight\u001b[0m\u001b[0;34m=\u001b[0m\u001b[0mcurr_sample_weight\u001b[0m\u001b[0;34m,\u001b[0m \u001b[0mcheck_input\u001b[0m\u001b[0;34m=\u001b[0m\u001b[0;32mFalse\u001b[0m\u001b[0;34m)\u001b[0m\u001b[0;34m\u001b[0m\u001b[0;34m\u001b[0m\u001b[0m\n\u001b[0m\u001b[1;32m    185\u001b[0m     \u001b[0;32melse\u001b[0m\u001b[0;34m:\u001b[0m\u001b[0;34m\u001b[0m\u001b[0;34m\u001b[0m\u001b[0m\n\u001b[1;32m    186\u001b[0m         \u001b[0mtree\u001b[0m\u001b[0;34m.\u001b[0m\u001b[0mfit\u001b[0m\u001b[0;34m(\u001b[0m\u001b[0mX\u001b[0m\u001b[0;34m,\u001b[0m \u001b[0my\u001b[0m\u001b[0;34m,\u001b[0m \u001b[0msample_weight\u001b[0m\u001b[0;34m=\u001b[0m\u001b[0msample_weight\u001b[0m\u001b[0;34m,\u001b[0m \u001b[0mcheck_input\u001b[0m\u001b[0;34m=\u001b[0m\u001b[0;32mFalse\u001b[0m\u001b[0;34m)\u001b[0m\u001b[0;34m\u001b[0m\u001b[0;34m\u001b[0m\u001b[0m\n",
            "\u001b[0;32m/usr/local/lib/python3.10/dist-packages/sklearn/tree/_classes.py\u001b[0m in \u001b[0;36mfit\u001b[0;34m(self, X, y, sample_weight, check_input)\u001b[0m\n\u001b[1;32m    887\u001b[0m         \"\"\"\n\u001b[1;32m    888\u001b[0m \u001b[0;34m\u001b[0m\u001b[0m\n\u001b[0;32m--> 889\u001b[0;31m         super().fit(\n\u001b[0m\u001b[1;32m    890\u001b[0m             \u001b[0mX\u001b[0m\u001b[0;34m,\u001b[0m\u001b[0;34m\u001b[0m\u001b[0;34m\u001b[0m\u001b[0m\n\u001b[1;32m    891\u001b[0m             \u001b[0my\u001b[0m\u001b[0;34m,\u001b[0m\u001b[0;34m\u001b[0m\u001b[0;34m\u001b[0m\u001b[0m\n",
            "\u001b[0;32m/usr/local/lib/python3.10/dist-packages/sklearn/tree/_classes.py\u001b[0m in \u001b[0;36mfit\u001b[0;34m(self, X, y, sample_weight, check_input)\u001b[0m\n\u001b[1;32m    377\u001b[0m             )\n\u001b[1;32m    378\u001b[0m \u001b[0;34m\u001b[0m\u001b[0m\n\u001b[0;32m--> 379\u001b[0;31m         \u001b[0mbuilder\u001b[0m\u001b[0;34m.\u001b[0m\u001b[0mbuild\u001b[0m\u001b[0;34m(\u001b[0m\u001b[0mself\u001b[0m\u001b[0;34m.\u001b[0m\u001b[0mtree_\u001b[0m\u001b[0;34m,\u001b[0m \u001b[0mX\u001b[0m\u001b[0;34m,\u001b[0m \u001b[0my\u001b[0m\u001b[0;34m,\u001b[0m \u001b[0msample_weight\u001b[0m\u001b[0;34m)\u001b[0m\u001b[0;34m\u001b[0m\u001b[0;34m\u001b[0m\u001b[0m\n\u001b[0m\u001b[1;32m    380\u001b[0m \u001b[0;34m\u001b[0m\u001b[0m\n\u001b[1;32m    381\u001b[0m         \u001b[0;32mif\u001b[0m \u001b[0mself\u001b[0m\u001b[0;34m.\u001b[0m\u001b[0mn_outputs_\u001b[0m \u001b[0;34m==\u001b[0m \u001b[0;36m1\u001b[0m \u001b[0;32mand\u001b[0m \u001b[0mis_classifier\u001b[0m\u001b[0;34m(\u001b[0m\u001b[0mself\u001b[0m\u001b[0;34m)\u001b[0m\u001b[0;34m:\u001b[0m\u001b[0;34m\u001b[0m\u001b[0;34m\u001b[0m\u001b[0m\n",
            "\u001b[0;31mKeyboardInterrupt\u001b[0m: "
          ]
        }
      ],
      "source": [
        "from sklearn.model_selection import GridSearchCV\n",
        "\n",
        "# Define the parameter grid\n",
        "param_grid = {\n",
        "    'n_estimators': [100, 200, 300],\n",
        "    'max_depth': [None, 10, 20],\n",
        "    'min_samples_split': [2, 5, 10]\n",
        "}\n",
        "\n",
        "# Initialize the grid search\n",
        "grid_search = GridSearchCV(RandomForestClassifier(random_state=42), param_grid, cv=5)\n",
        "\n",
        "# Fit the grid search to the data\n",
        "grid_search.fit(X_train, y_train)\n",
        "\n",
        "# Print the best parameters\n",
        "print(\"Best parameters:\", grid_search.best_params_)\n",
        "\n",
        "# Use the best estimator for further predictions\n",
        "best_model = grid_search.best_estimator_\n"
      ]
    },
    {
      "cell_type": "code",
      "execution_count": 18,
      "metadata": {
        "id": "9v0EsS_ySEyw"
      },
      "outputs": [],
      "source": [
        "from sklearn.naive_bayes import MultinomialNB\n",
        "from sklearn.linear_model import LogisticRegression\n",
        "from sklearn.svm import LinearSVC\n",
        "\n",
        "models = [\n",
        "    MultinomialNB(),\n",
        "    LogisticRegression(max_iter=1000),\n",
        "    LinearSVC()\n",
        "]\n"
      ]
    },
    {
      "cell_type": "code",
      "execution_count": 19,
      "metadata": {
        "id": "zuGV0YBZTHph"
      },
      "outputs": [],
      "source": [
        "from sklearn.ensemble import RandomForestClassifier, GradientBoostingClassifier\n",
        "from sklearn.linear_model import SGDClassifier\n",
        "\n",
        "models.extend([\n",
        "    RandomForestClassifier(max_depth=None,\n",
        "    min_samples_split=5,\n",
        "    n_estimators=200,\n",
        "    random_state=42),\n",
        "    GradientBoostingClassifier(),\n",
        "    SGDClassifier(max_iter=1000)\n",
        "])\n"
      ]
    },
    {
      "cell_type": "code",
      "execution_count": 20,
      "metadata": {
        "colab": {
          "base_uri": "https://localhost:8080/",
          "height": 517
        },
        "id": "0IhZk1yeSEJW",
        "outputId": "a8002c15-6528-4e3e-fee9-dd40b57fbc21"
      },
      "outputs": [
        {
          "data": {
            "image/png": "[encoded data removed]",
            "text/plain": [
              "<Figure size 1000x600 with 1 Axes>"
            ]
          },
          "metadata": {},
          "output_type": "display_data"
        }
      ],
      "source": [
        "import matplotlib.pyplot as plt\n",
        "\n",
        "accuracy_scores = []\n",
        "\n",
        "for model in models:\n",
        "    # Check if the model can handle sparse data\n",
        "    if 'sparse' in model.get_params().get('input', ''):\n",
        "        # Fit the model on sparse data\n",
        "        model.fit(X_train, y_train)\n",
        "    else:\n",
        "        # Convert sparse matrix to dense array\n",
        "        model.fit(X_train.toarray(), y_train)\n",
        "\n",
        "    # Predict on the validation set\n",
        "    y_pred = model.predict(X_val.toarray() if not hasattr(model, 'predict_proba') else X_val)\n",
        "\n",
        "\n",
        "    # Calculate accuracy\n",
        "    accuracy = accuracy_score(y_val, y_pred)\n",
        "\n",
        "    # Append the accuracy to our list\n",
        "    accuracy_scores.append(accuracy)\n",
        "\n",
        "# plot the accuracies\n",
        "plt.figure(figsize=(10, 6))\n",
        "model_names = [type(model).__name__ for model in models]\n",
        "plt.bar(model_names, accuracy_scores, color='skyblue')\n",
        "plt.xlabel('Models')\n",
        "plt.ylabel('Accuracy')\n",
        "plt.xticks(rotation=45)\n",
        "plt.title('Model Accuracies')\n",
        "plt.show()\n"
      ]
    },
    {
      "cell_type": "code",
      "execution_count": 22,
      "metadata": {
        "colab": {
          "base_uri": "https://localhost:8080/"
        },
        "id": "fG6d9ntMTaVT",
        "outputId": "e5922be4-dee3-4718-b264-eabff5fef272"
      },
      "outputs": [
        {
          "data": {
            "text/plain": [
              "[0.5807106598984771,\n",
              " 0.6223350253807106,\n",
              " 0.6071065989847716,\n",
              " 0.5796954314720812,\n",
              " 0.5705583756345177,\n",
              " 0.5888324873096447]"
            ]
          },
          "execution_count": 22,
          "metadata": {},
          "output_type": "execute_result"
        }
      ],
      "source": [
        "accuracy_scores"
      ]
    },
    {
      "cell_type": "markdown",
      "metadata": {
        "id": "js8CJrUqmPKy"
      },
      "source": [
        "test"
      ]
    },
    {
      "cell_type": "code",
      "execution_count": 28,
      "metadata": {
        "colab": {
          "base_uri": "https://localhost:8080/"
        },
        "id": "-p1vLyg8WmCz",
        "outputId": "0dde33a1-b894-48b9-edf0-21c36ac43a1d"
      },
      "outputs": [
        {
          "name": "stdout",
          "output_type": "stream",
          "text": [
            "['OTHER' 'HAPPY' 'ANGRY' 'HAPPY' 'OTHER' 'ANGRY' 'SAD' 'HAPPY' 'OTHER'\n",
            " 'HAPPY' 'OTHER' 'SAD' 'HAPPY' 'ANGRY' 'OTHER' 'OTHER' 'HAPPY' 'HAPPY'\n",
            " 'HAPPY' 'HAPPY' 'OTHER' 'ANGRY' 'OTHER' 'OTHER' 'OTHER' 'HAPPY' 'OTHER'\n",
            " 'OTHER' 'OTHER' 'ANGRY' 'HAPPY' 'SAD' 'ANGRY' 'OTHER' 'OTHER' 'HAPPY'\n",
            " 'ANGRY' 'SAD' 'OTHER' 'HAPPY' 'HAPPY' 'OTHER' 'OTHER' 'HAPPY' 'OTHER'\n",
            " 'SAD' 'HAPPY' 'OTHER' 'FEAR' 'HAPPY' 'OTHER' 'OTHER' 'HAPPY' 'HAPPY'\n",
            " 'OTHER' 'HAPPY' 'HAPPY' 'OTHER' 'OTHER' 'OTHER' 'OTHER' 'OTHER' 'ANGRY'\n",
            " 'HAPPY' 'HAPPY' 'HAPPY' 'HAPPY' 'OTHER' 'OTHER' 'HAPPY' 'HAPPY' 'HAPPY'\n",
            " 'OTHER' 'HAPPY' 'SAD' 'OTHER' 'OTHER' 'HAPPY' 'OTHER' 'OTHER' 'OTHER'\n",
            " 'HAPPY' 'OTHER' 'HAPPY' 'HAPPY' 'SAD' 'OTHER' 'ANGRY' 'HAPPY' 'OTHER'\n",
            " 'HAPPY' 'OTHER' 'OTHER' 'FEAR' 'HAPPY' 'SAD' 'OTHER' 'HAPPY' 'OTHER'\n",
            " 'ANGRY' 'SAD' 'SAD' 'HAPPY' 'FEAR' 'HAPPY' 'SAD' 'FEAR' 'ANGRY' 'OTHER'\n",
            " 'OTHER' 'SAD' 'HAPPY' 'FEAR' 'HAPPY' 'SAD' 'OTHER' 'OTHER' 'OTHER'\n",
            " 'OTHER' 'SAD' 'OTHER' 'FEAR' 'HAPPY' 'SAD' 'OTHER' 'SAD' 'ANGRY' 'SAD'\n",
            " 'FEAR' 'HAPPY' 'OTHER' 'HAPPY' 'OTHER' 'OTHER' 'HAPPY' 'OTHER' 'OTHER'\n",
            " 'SAD' 'ANGRY' 'OTHER' 'ANGRY' 'HAPPY' 'OTHER' 'OTHER' 'SAD' 'HAPPY'\n",
            " 'HAPPY' 'HAPPY' 'HAPPY' 'OTHER' 'ANGRY' 'ANGRY' 'HAPPY' 'HAPPY' 'OTHER'\n",
            " 'HAPPY' 'HAPPY' 'OTHER' 'OTHER' 'ANGRY' 'OTHER' 'FEAR' 'OTHER' 'SAD'\n",
            " 'OTHER' 'OTHER' 'OTHER' 'OTHER' 'OTHER' 'OTHER' 'HAPPY' 'ANGRY' 'HAPPY'\n",
            " 'ANGRY' 'OTHER' 'HAPPY' 'SAD' 'ANGRY' 'OTHER' 'OTHER' 'OTHER' 'ANGRY'\n",
            " 'SAD' 'FEAR' 'ANGRY' 'ANGRY' 'HAPPY' 'OTHER' 'OTHER' 'OTHER' 'OTHER'\n",
            " 'ANGRY' 'OTHER' 'OTHER' 'OTHER' 'SAD' 'HAPPY' 'ANGRY' 'HAPPY' 'OTHER'\n",
            " 'HAPPY' 'SAD' 'HAPPY' 'SAD' 'HAPPY' 'FEAR' 'HAPPY' 'OTHER' 'HAPPY' 'FEAR'\n",
            " 'OTHER' 'SAD' 'ANGRY' 'HAPPY' 'OTHER' 'HAPPY' 'FEAR' 'HAPPY' 'OTHER'\n",
            " 'SAD' 'FEAR' 'ANGRY' 'HAPPY' 'ANGRY' 'HAPPY' 'HAPPY' 'OTHER' 'HAPPY'\n",
            " 'OTHER' 'HAPPY' 'OTHER' 'SAD' 'OTHER' 'OTHER' 'ANGRY' 'HAPPY' 'HAPPY'\n",
            " 'ANGRY' 'HAPPY' 'SAD' 'OTHER' 'HAPPY' 'HAPPY' 'HAPPY' 'OTHER' 'OTHER'\n",
            " 'OTHER' 'OTHER' 'SAD' 'SAD' 'HAPPY' 'HAPPY' 'OTHER' 'OTHER' 'ANGRY'\n",
            " 'OTHER' 'HAPPY' 'ANGRY' 'OTHER' 'FEAR' 'OTHER' 'OTHER' 'HAPPY' 'OTHER'\n",
            " 'HAPPY' 'ANGRY' 'HAPPY' 'ANGRY' 'ANGRY' 'HAPPY' 'OTHER' 'OTHER' 'OTHER'\n",
            " 'OTHER' 'HAPPY' 'SAD' 'OTHER' 'ANGRY' 'OTHER' 'OTHER' 'OTHER' 'OTHER'\n",
            " 'OTHER' 'OTHER' 'HAPPY' 'ANGRY' 'OTHER' 'OTHER' 'SAD' 'HAPPY' 'OTHER'\n",
            " 'FEAR' 'OTHER' 'SAD' 'ANGRY' 'OTHER' 'HAPPY' 'ANGRY' 'OTHER' 'HAPPY'\n",
            " 'OTHER' 'OTHER' 'ANGRY' 'HAPPY' 'HAPPY' 'SAD' 'OTHER' 'OTHER' 'ANGRY'\n",
            " 'OTHER' 'SAD' 'OTHER' 'SAD' 'HAPPY' 'FEAR' 'OTHER' 'ANGRY' 'ANGRY'\n",
            " 'OTHER' 'OTHER' 'HAPPY' 'OTHER' 'ANGRY' 'SAD' 'OTHER' 'OTHER' 'OTHER'\n",
            " 'HAPPY' 'OTHER' 'HAPPY' 'OTHER' 'SAD' 'OTHER' 'OTHER' 'OTHER' 'OTHER'\n",
            " 'HAPPY' 'HAPPY' 'HAPPY' 'HAPPY' 'HAPPY' 'OTHER' 'SAD' 'ANGRY' 'OTHER'\n",
            " 'ANGRY' 'OTHER' 'OTHER' 'HAPPY' 'ANGRY' 'OTHER' 'OTHER' 'OTHER' 'ANGRY'\n",
            " 'ANGRY' 'SAD' 'OTHER' 'OTHER' 'OTHER' 'SAD' 'HAPPY' 'ANGRY' 'OTHER'\n",
            " 'OTHER' 'HAPPY' 'ANGRY' 'HAPPY' 'HAPPY' 'HAPPY' 'OTHER' 'ANGRY' 'ANGRY'\n",
            " 'HAPPY' 'OTHER' 'HAPPY' 'SAD' 'OTHER' 'OTHER' 'HAPPY' 'HAPPY' 'HAPPY'\n",
            " 'HAPPY' 'SAD' 'HAPPY' 'HAPPY' 'OTHER' 'SAD' 'HAPPY' 'OTHER' 'HAPPY'\n",
            " 'HAPPY' 'OTHER' 'OTHER' 'OTHER' 'SAD' 'HAPPY' 'HAPPY' 'HAPPY' 'HAPPY'\n",
            " 'ANGRY' 'SAD' 'HAPPY' 'SAD' 'FEAR' 'OTHER' 'SAD' 'HAPPY' 'OTHER' 'ANGRY'\n",
            " 'HAPPY' 'OTHER' 'HAPPY' 'SAD' 'OTHER' 'HAPPY' 'SAD' 'HAPPY' 'ANGRY' 'SAD'\n",
            " 'SAD' 'OTHER' 'HAPPY' 'ANGRY' 'OTHER' 'OTHER' 'OTHER' 'SAD' 'HAPPY'\n",
            " 'OTHER' 'OTHER' 'SAD' 'HAPPY' 'OTHER' 'ANGRY' 'ANGRY' 'OTHER' 'HAPPY'\n",
            " 'OTHER' 'SAD' 'HAPPY' 'OTHER' 'HAPPY' 'OTHER' 'OTHER' 'HAPPY' 'SAD'\n",
            " 'OTHER' 'SAD' 'HAPPY' 'HAPPY' 'OTHER' 'HAPPY' 'OTHER' 'OTHER' 'OTHER'\n",
            " 'HAPPY' 'OTHER' 'HAPPY' 'ANGRY' 'HAPPY' 'HAPPY' 'OTHER' 'HAPPY' 'OTHER'\n",
            " 'ANGRY' 'ANGRY' 'OTHER' 'OTHER' 'SAD' 'OTHER' 'ANGRY' 'OTHER' 'OTHER'\n",
            " 'OTHER' 'SAD' 'OTHER' 'OTHER' 'HAPPY' 'OTHER' 'OTHER' 'ANGRY' 'OTHER'\n",
            " 'HAPPY' 'OTHER' 'ANGRY' 'HAPPY' 'OTHER' 'HAPPY' 'OTHER' 'OTHER' 'ANGRY'\n",
            " 'HAPPY' 'OTHER' 'ANGRY' 'ANGRY' 'SAD' 'OTHER' 'HAPPY' 'ANGRY' 'HAPPY'\n",
            " 'ANGRY' 'OTHER' 'OTHER' 'FEAR' 'OTHER' 'HAPPY' 'HAPPY' 'SAD' 'OTHER'\n",
            " 'OTHER' 'OTHER' 'OTHER' 'HAPPY' 'ANGRY' 'HAPPY' 'OTHER' 'HAPPY' 'OTHER'\n",
            " 'OTHER' 'HAPPY' 'HAPPY' 'HAPPY' 'SAD' 'ANGRY' 'OTHER' 'OTHER' 'SAD' 'SAD'\n",
            " 'SAD' 'OTHER' 'ANGRY' 'OTHER' 'OTHER' 'HAPPY' 'OTHER' 'SAD' 'HAPPY'\n",
            " 'HAPPY' 'FEAR' 'FEAR' 'OTHER' 'HAPPY' 'OTHER' 'OTHER' 'HAPPY' 'SAD'\n",
            " 'HAPPY' 'ANGRY']\n"
          ]
        }
      ],
      "source": [
        "# Preprocess the test data\n",
        "df_test['Text'] = df_test['Text'].apply(clean_text)\n",
        "# Transform the test data using the best TF-IDF parameters from the trained vectorizer\n",
        "X_test_tfidf = vectorizer.transform(df_test['Text'])\n",
        "\n",
        "# Make predictions on the test data using the trained pipeline\n",
        "test_predictions = grid_search_tfidf.predict(df_test['Text'])\n",
        "\n",
        "# Output the predictions\n",
        "print(test_predictions)\n",
        "\n"
      ]
    },
    {
      "cell_type": "code",
      "execution_count": null,
      "metadata": {
        "id": "a8wY16cxnBG6"
      },
      "outputs": [],
      "source": []
    }
  ],
  "metadata": {
    "colab": {
      "provenance": []
    },
    "kernelspec": {
      "display_name": "Python 3",
      "name": "python3"
    },
    "language_info": {
      "name": "python"
    }
  },
  "nbformat": 4,
  "nbformat_minor": 0
}
